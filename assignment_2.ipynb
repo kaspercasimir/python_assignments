{
  "cells": [
    {
      "cell_type": "markdown",
      "metadata": {
        "id": "5h8PzAFOTqW-"
      },
      "source": [
        "## Assignment 2\n",
        "\n"
      ]
    },
    {
      "cell_type": "markdown",
      "metadata": {
        "id": "2aAjiwBpTqW_"
      },
      "source": [
        "In this assignment we consider the following phenomenon. Have you ever called the help-desk of an organization; say, a webshop. Chances are that when you did, you were told that the customer queue was longer than average and you were kindly asked to wait. When you complained about this to your friends, almost all of them had the same experience. How can it be the case that everyone has to wait longer than average? Surely, this is a scam and the helpdesk is under-staffed? It probably is under-staffed, but the outcome is consistent with the webshop telling the truth.\n",
        "\n",
        "In this assignment we will consider a related issue where the average class size reported by a school does not square with the student experience of the average class size.\n",
        "\n",
        "The objective of this assignment is for you to learn translating a problem posed in words into a python program. You only need 4 lines of code to solve this problem. The issue really is the translation of the narative into code.\n",
        "\n",
        "\n",
        "A school offers students education in five different class sizs. There are one-on-one supervision classes, tutorials with 10 students, interactive lectures with 50 students and big lectures with 100 and 200 students resp. In the school schedule each of these classe sizes are offered equally often in a week (do not worry about whether this is actually possible; simply assume that there is a uniform distribution over the class sizes). Hence the school advertises with an average class size of 72.2.\n",
        "\n",
        "On a lecture day, we go to the school yard and sample students during the breaks. We ask them: what was the size of the class you just attented? In total we sample 250 students during the breaks on this day. We take the average of all the 250 reported class sizes.\n",
        "\n",
        "\n",
        "*Question* Verify that the average class size as reported by the school is indeed 72.2. Then show that the average class size as reported by students in our sample is roughly twice as high. Finally, give the intuition for this result.\n",
        "\n"
      ]
    },
    {
      "cell_type": "code",
      "execution_count": 1,
      "metadata": {
        "tags": [],
        "id": "eC_QVunSTqXA",
        "outputId": "f0350e95-9f54-482d-ff5e-557b2a94b37d",
        "colab": {
          "base_uri": "https://localhost:8080/"
        }
      },
      "outputs": [
        {
          "output_type": "stream",
          "name": "stdout",
          "text": [
            "Advertised average class size: 72.2\n",
            "Average class size reported by students: 136.44\n"
          ]
        }
      ],
      "source": [
        "import numpy as np\n",
        "\n",
        "# Step 1: Verify the school's advertised average class size\n",
        "class_sizes = [1, 10, 50, 100, 200]  # Different class sizes offered\n",
        "advertised_average = np.mean(class_sizes)  # Average of these sizes (equal distribution)\n",
        "print(f\"Advertised average class size: {advertised_average}\")\n",
        "\n",
        "# Step 2: Simulate sampling students\n",
        "class_weights = np.array([1, 10, 50, 100, 200])  # Number of students in each class size\n",
        "probability_weights = class_weights / class_weights.sum()  # Weights for the probability of sampling students\n",
        "\n",
        "# Sample 250 students based on the class size they report\n",
        "sampled_classes = np.random.choice(class_sizes, size=250, p=probability_weights)\n",
        "\n",
        "# Calculate the average class size reported by students\n",
        "student_reported_average = np.mean(sampled_classes)\n",
        "print(f\"Average class size reported by students: {student_reported_average}\")"
      ]
    },
    {
      "cell_type": "markdown",
      "metadata": {
        "id": "8R77h5nkTqXA"
      },
      "source": [
        "*provide intuition for the result (whether you solved it or not)*"
      ]
    },
    {
      "cell_type": "markdown",
      "metadata": {
        "id": "wmhvS5GYTqXA"
      },
      "source": [
        "### What did you get wrong the first time and why?\n",
        "\n"
      ]
    },
    {
      "cell_type": "markdown",
      "metadata": {
        "id": "8t2j0HLXTqXB"
      },
      "source": [
        "The intuition of the result is strongly based on sampling bias. The school is calculating an average based on the different class sizes with equal weight. So an average of (1, 10, 50, 100, 200) would be 72. This average is of course strongly biased, since the gross of the students is part of the larger classes. For example, a class of 200 students contributes 200 responses, whereas a class of 1 student contributes only 1 response. For this reason, using our code finding the student-reported average it is logical that it is skewed toward larger class sizes, which inflates the perceived average size to 146. The result is roughly twice the advertised average because the larger classess dominate the sampled data."
      ]
    },
    {
      "cell_type": "markdown",
      "metadata": {
        "id": "NsokuPLfTqXB"
      },
      "source": [
        "### What did you learn from this assignment?\n",
        "\n"
      ]
    },
    {
      "cell_type": "markdown",
      "metadata": {
        "id": "_7CFPKXATqXB"
      },
      "source": [
        "This section you only need to fill in after the assignment was discussed in class.\n",
        "\n"
      ]
    }
  ],
  "metadata": {
    "kernelspec": {
      "display_name": "Python 3 (ipykernel)",
      "language": "python",
      "name": "python3"
    },
    "language_info": {
      "codemirror_mode": {
        "name": "ipython",
        "version": 3
      },
      "file_extension": ".py",
      "mimetype": "text/x-python",
      "name": "python",
      "nbconvert_exporter": "python",
      "pygments_lexer": "ipython3",
      "version": "3.11.5"
    },
    "org": null,
    "colab": {
      "provenance": []
    }
  },
  "nbformat": 4,
  "nbformat_minor": 0
}